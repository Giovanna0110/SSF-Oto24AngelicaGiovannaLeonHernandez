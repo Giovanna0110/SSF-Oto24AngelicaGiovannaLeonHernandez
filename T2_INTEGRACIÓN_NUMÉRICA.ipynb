{
  "nbformat": 4,
  "nbformat_minor": 0,
  "metadata": {
    "colab": {
      "provenance": [],
      "authorship_tag": "ABX9TyOE3wO/twGbe2d0qWg6krOF",
      "include_colab_link": true
    },
    "kernelspec": {
      "name": "python3",
      "display_name": "Python 3"
    },
    "language_info": {
      "name": "python"
    }
  },
  "cells": [
    {
      "cell_type": "markdown",
      "metadata": {
        "id": "view-in-github",
        "colab_type": "text"
      },
      "source": [
        "<a href=\"https://colab.research.google.com/github/Giovanna0110/SSF-Oto24AngelicaGiovannaLeonHernandez/blob/main/T2_INTEGRACI%C3%93N_NUM%C3%89RICA.ipynb\" target=\"_parent\"><img src=\"https://colab.research.google.com/assets/colab-badge.svg\" alt=\"Open In Colab\"/></a>"
      ]
    },
    {
      "cell_type": "code",
      "execution_count": null,
      "metadata": {
        "colab": {
          "base_uri": "https://localhost:8080/"
        },
        "id": "OEffTDCDltHo",
        "outputId": "62020ba9-6948-4ba2-822c-eabd1bc05911"
      },
      "outputs": [
        {
          "output_type": "stream",
          "name": "stdout",
          "text": [
            "Valor aproximado de la integral con 6 puntos y pesos de Gauss-Legendre: 0.682689\n",
            "Valor aproximado de la integral con 15 puntos y pesos de Gauss-Legendre: 0.682689\n"
          ]
        }
      ],
      "source": [
        "import numpy as np\n",
        "\n",
        "# definir la funcion a integrar\n",
        "def f(x):\n",
        "    return (1/np.sqrt(2*np.pi))*np.exp(-x**2 / 2)\n",
        "# puntos y pesos de Gauss-Legendre para n = 6\n",
        "points_6 = [-0.932469514203152, -0.661209386466265, -0.238619186083197, 0.238619186083197, 0.661209386466265, 0.932469514203152]\n",
        "weights_6 = [0.171324492379170, 0.360761573048139, 0.467913934572691, 0.467913934572691, 0.360761573048139, 0.171324492379170]\n",
        "\n",
        "# puntos y pesos de Gauss-Legendre para n = 15\n",
        "points_15 = [-0.987992518020485, -0.937273392400706, -0.848206583410427, -0.724417731360170, -0.570972172608539, -0.394151347077563, -0.201194093997435, 0.000000000000000, 0.201194093997435, 0.394151347077563, 0.570972172608539, 0.724417731360170, 0.848206583410427, 0.937273392400706, 0.987992518020485]\n",
        "weights_15 = [0.030753241996117, 0.070366047488108, 0.107159220467172, 0.139570677926154, 0.166269205816994, 0.186161000015562, 0.198431485327111, 0.202578241925561, 0.198431485327111, 0.186161000015562, 0.166269205816994, 0.139570677926154, 0.107159220467172, 0.070366047488108, 0.030753241996117]\n",
        "\n",
        "# calculo de la integral para n = 6\n",
        "integral_6 = sum(w * f(x) for x, w in zip(points_6, weights_6))\n",
        "\n",
        "# calculo de la integral para n = 15\n",
        "integral_15 = sum(w * f(x) for x, w in zip(points_15, weights_15))\n",
        "\n",
        "# resultados\n",
        "print(f\"Valor aproximado de la integral con 6 puntos y pesos de Gauss-Legendre: {integral_6:.6f}\")\n",
        "print(f\"Valor aproximado de la integral con 15 puntos y pesos de Gauss-Legendre: {integral_15:.6f}\")\n"
      ]
    },
    {
      "cell_type": "code",
      "source": [
        "import numpy as np\n",
        "\n",
        "# definir la funcion a integrar\n",
        "def f(x):\n",
        "    return np.exp(x) * np.sin(x) / (1 + x**2)\n",
        "# regla del trapecio\n",
        "def regla_trapecio(f, a, b, N):\n",
        "    \"\"\"\n",
        "\n",
        "    Args:\n",
        "      f:\n",
        "      a:\n",
        "      b:\n",
        "      N:\n",
        "\n",
        "    Returns:\n",
        "\n",
        "    \"\"\"\n",
        "    h = (b - a) / N\n",
        "    x = np.linspace(a, b, N + 1)\n",
        "    integral = (h/2) * (f(x)[0] + 2 * sum(f(x)[1:N]) + f(x)[N])\n",
        "    return integral\n",
        "# limites de integracion y numero de subintervalos\n",
        "a, b = 0, 3\n",
        "N_values = [6, 15, 20]\n",
        "# resultados\n",
        "for N in N_values:\n",
        "    integral = regla_trapecio(f, a, b, N)\n",
        "    print(f\"Valor aproximado de la integral con {N} subintervalos: {integral:.6f}\")\n",
        "\n"
      ],
      "metadata": {
        "colab": {
          "base_uri": "https://localhost:8080/"
        },
        "id": "Rj6t7-KK3zK4",
        "outputId": "6bf6f1c3-0d78-4424-f40b-14e81013efb1"
      },
      "execution_count": null,
      "outputs": [
        {
          "output_type": "stream",
          "name": "stdout",
          "text": [
            "Valor aproximado de la integral con 6 subintervalos: 2.821344\n",
            "Valor aproximado de la integral con 15 subintervalos: 2.872045\n",
            "Valor aproximado de la integral con 20 subintervalos: 2.876244\n"
          ]
        }
      ]
    },
    {
      "source": [
        "# ...  ...\n",
        "\n",
        "# evitamos el problema en x=0 utilizando un limite interior pequeño (0.01)\n",
        "a, b = 0.01, 5 # el limite ingterior no puede ser 0 para evitar la division por cero\n",
        "N_values = [6, 10, 20] # asegurarnos de que N es par #Fixed: assigned list to N_values\n",
        "\n",
        "# Cálculo de la integral f(x) y g(x) con simpson\n",
        "for N in N_values:\n",
        "    integral_f_simpson = simpson(f, a, b, N)\n",
        "    integral_g_simpson = simpson(g, a, b, N)\n",
        "\n",
        "    print(f\"Valor aproximado de la integral de f(x) con {N} subintervalos: {integral_f_simpson}\")\n",
        "    print(f\"Valor aproximado de la integral de g(x) con {N} subintervalos: {integral_g_simpson}\")"
      ],
      "cell_type": "code",
      "metadata": {
        "colab": {
          "base_uri": "https://localhost:8080/"
        },
        "id": "65haV4FBm1VB",
        "outputId": "1fef6e07-d197-483c-dcbe-2ec99fdafc9d"
      },
      "execution_count": 7,
      "outputs": [
        {
          "output_type": "stream",
          "name": "stdout",
          "text": [
            "Valor aproximado de la integral de f(x) con 6 subintervalos: 68.33315275828056\n",
            "Valor aproximado de la integral de g(x) con 6 subintervalos: -38.03178873712139\n",
            "Valor aproximado de la integral de f(x) con 10 subintervalos: 57.70274274190619\n",
            "Valor aproximado de la integral de g(x) con 10 subintervalos: -37.99442712802568\n",
            "Valor aproximado de la integral de f(x) con 20 subintervalos: 50.03704276109925\n",
            "Valor aproximado de la integral de g(x) con 20 subintervalos: -37.988967596842144\n"
          ]
        }
      ]
    },
    {
      "cell_type": "code",
      "source": [
        "from numpy.polynomial.legendre import leggauss\n",
        "\n",
        "# cuadratura de Gauss-Legendre\n",
        "def gauss_legendre(f, a, b, n):\n",
        "   [x, w] = leggauss(n)\n",
        "   xp = 0.5 * (x + 1) * (b - a) + a\n",
        "   wp = 0.5 * (b - a) * w\n",
        "   return sum(wp * f(xp))\n",
        "\n",
        "\n",
        "# numeros de puntos para Gauss-Legendre\n",
        "n_values = [6, 15]\n",
        "\n",
        "for n in n_values:\n",
        "    integral_gauss = gauss_legendre(f, a, b, n)\n",
        "    print(f\"Integral usando Gauss-Legendre con (n) puntos: {integral_gauss}\")\n"
      ],
      "metadata": {
        "colab": {
          "base_uri": "https://localhost:8080/"
        },
        "id": "wG6jXuzfnNBK",
        "outputId": "b8b53adb-4b3b-4fc2-8761-cfdc44d4260e"
      },
      "execution_count": 9,
      "outputs": [
        {
          "output_type": "stream",
          "name": "stdout",
          "text": [
            "Integral usando Gauss-Legendre con (n) puntos: 42.72886571231565\n",
            "Integral usando Gauss-Legendre con (n) puntos: 43.88202843986699\n"
          ]
        }
      ]
    },
    {
      "cell_type": "code",
      "source": [
        "# nuevos limites de integracion\n",
        "a, b = -2, 0\n",
        "\n",
        "# repetimos para cada metodo\n",
        "for N in N_values:\n",
        "    integral_trapecio = trapecio(f, a, b, N)\n",
        "    print(f\"Integral (trapecio) een [-2, 0] con {N} subintervalos: {integral_trapecio}\")\n",
        "\n",
        "    if N % 2 == 0:\n",
        "        integral_simpson = simpson(f, a, b, N)\n",
        "        print(f\"Integral (Simpson) en [-2, 0] con {N} particiones_simpson\")\n",
        "\n",
        "for n in n_values:\n",
        "    integral_gauss = gauss_legendre(f, a, b, n)\n",
        "    print(f\"Integral (Gauss-Legendre) en [-2, 0] con {n} puntos: {integral_gauss}\")\n"
      ],
      "metadata": {
        "colab": {
          "base_uri": "https://localhost:8080/",
          "height": 228
        },
        "id": "hBgIACCDqTqo",
        "outputId": "627e1ada-fc80-4847-ae15-b883f39ecd0b"
      },
      "execution_count": 17,
      "outputs": [
        {
          "output_type": "error",
          "ename": "NameError",
          "evalue": "name 'trapecio' is not defined",
          "traceback": [
            "\u001b[0;31m---------------------------------------------------------------------------\u001b[0m",
            "\u001b[0;31mNameError\u001b[0m                                 Traceback (most recent call last)",
            "\u001b[0;32m<ipython-input-17-fd0017629bf2>\u001b[0m in \u001b[0;36m<cell line: 5>\u001b[0;34m()\u001b[0m\n\u001b[1;32m      4\u001b[0m \u001b[0;31m# repetimos para cada metodo\u001b[0m\u001b[0;34m\u001b[0m\u001b[0;34m\u001b[0m\u001b[0m\n\u001b[1;32m      5\u001b[0m \u001b[0;32mfor\u001b[0m \u001b[0mN\u001b[0m \u001b[0;32min\u001b[0m \u001b[0mN_values\u001b[0m\u001b[0;34m:\u001b[0m\u001b[0;34m\u001b[0m\u001b[0;34m\u001b[0m\u001b[0m\n\u001b[0;32m----> 6\u001b[0;31m     \u001b[0mintegral_trapecio\u001b[0m \u001b[0;34m=\u001b[0m \u001b[0mtrapecio\u001b[0m\u001b[0;34m(\u001b[0m\u001b[0mf\u001b[0m\u001b[0;34m,\u001b[0m \u001b[0ma\u001b[0m\u001b[0;34m,\u001b[0m \u001b[0mb\u001b[0m\u001b[0;34m,\u001b[0m \u001b[0mN\u001b[0m\u001b[0;34m)\u001b[0m\u001b[0;34m\u001b[0m\u001b[0;34m\u001b[0m\u001b[0m\n\u001b[0m\u001b[1;32m      7\u001b[0m     \u001b[0mprint\u001b[0m\u001b[0;34m(\u001b[0m\u001b[0;34mf\"Integral (trapecio) een [-2, 0] con {N} subintervalos: {integral_trapecio}\"\u001b[0m\u001b[0;34m)\u001b[0m\u001b[0;34m\u001b[0m\u001b[0;34m\u001b[0m\u001b[0m\n\u001b[1;32m      8\u001b[0m \u001b[0;34m\u001b[0m\u001b[0m\n",
            "\u001b[0;31mNameError\u001b[0m: name 'trapecio' is not defined"
          ]
        }
      ]
    },
    {
      "source": [
        "# nuevos limites de integracion\n",
        "a, b = -2, 0\n",
        "\n",
        "# define the trapecio function (assuming it's the same as regla_trapecio)\n",
        "def trapecio(f, a, b, N):\n",
        "    \"\"\"\n",
        "\n",
        "    Args:\n",
        "      f:\n",
        "      a:\n",
        "      b:\n",
        "      N:\n",
        "\n",
        "    Returns:\n",
        "\n",
        "    \"\"\"\n",
        "    h = (b - a) / N\n",
        "    x = np.linspace(a, b, N + 1)\n",
        "    integral = (h/2) * (f(x)[0] + 2 * sum(f(x)[1:N]) + f(x)[N])\n",
        "    return integral\n",
        "\n",
        "# ensure N_values is defined (assuming it's the same as in previous cells)\n",
        "N_values = [6, 10, 20]\n",
        "\n",
        "# repetimos para cada metodo\n",
        "for N in N_values:\n",
        "    integral_trapecio = trapecio(f, a, b, N)\n",
        "    print(f\"Integral (trapecio) een [-2, 0] con {N} subintervalos: {integral_trapecio}\")\n",
        "\n",
        "    if N % 2 == 0:\n",
        "        integral_simpson = simpson(f, a, b, N) # You will need to define simpson\n",
        "        print(f\"Integral (Simpson) en [-2, 0] con {N} particiones_simpson\")\n",
        "\n",
        "for n in n_values: # You will also need to define n_values\n",
        "    integral_gauss = gauss_legendre(f, a, b, n)\n",
        "    print(f\"Integral (Gauss-Legendre) en [-2, 0] con {n} puntos: {integral_gauss}\")"
      ],
      "cell_type": "code",
      "metadata": {
        "colab": {
          "base_uri": "https://localhost:8080/"
        },
        "id": "IUNTftskxJfB",
        "outputId": "2c3a5091-0252-4a65-ddb6-6bb37e4ce13f"
      },
      "execution_count": 18,
      "outputs": [
        {
          "output_type": "stream",
          "name": "stdout",
          "text": [
            "Integral (trapecio) een [-2, 0] con 6 subintervalos: -0.24662685301874357\n",
            "Integral (Simpson) en [-2, 0] con 6 particiones_simpson\n",
            "Integral (trapecio) een [-2, 0] con 10 subintervalos: -0.2529432933558773\n",
            "Integral (Simpson) en [-2, 0] con 10 particiones_simpson\n",
            "Integral (trapecio) een [-2, 0] con 20 subintervalos: -0.25559039224119967\n",
            "Integral (Simpson) en [-2, 0] con 20 particiones_simpson\n",
            "Integral (Gauss-Legendre) en [-2, 0] con 6 puntos: -0.2564723282471044\n",
            "Integral (Gauss-Legendre) en [-2, 0] con 15 puntos: -0.2564705673360424\n"
          ]
        }
      ]
    },
    {
      "source": [
        "# definimos las funciones f(x) y g(x)\n",
        "def f(x):\n",
        "  return np.exp(x) / x # Changed np.xp to np.exp\n",
        "\n",
        "def g(x):\n",
        "  return (1 - np.exp(x)) / x\n",
        "\n",
        "# metodo de trapecio como ejemplo\n",
        "for N in N_values:\n",
        "    integral_f_trapecio = trapecio(f, 0.01, 5, N)\n",
        "    integral_g_trapecio = trapecio(g, 0.01, 5, N)\n",
        "\n",
        "print(f\"Integral de f(x) con {N} (trapecio): {integral_f_trapecio}\")\n",
        "print(f\"Integral de g(x) con {N} (trapecio): {integral_g_trapecio}\")"
      ],
      "cell_type": "code",
      "metadata": {
        "id": "SyDmpZfLzxUz",
        "outputId": "3a27f22d-997e-4ba9-9b40-e72d5536b43f",
        "colab": {
          "base_uri": "https://localhost:8080/"
        }
      },
      "execution_count": 21,
      "outputs": [
        {
          "output_type": "stream",
          "name": "stdout",
          "text": [
            "Integral de f(x) con 20 (trapecio): 54.09496053100374\n",
            "Integral de g(x) con 20 (trapecio): -38.109283364163225\n"
          ]
        }
      ]
    }
  ]
}