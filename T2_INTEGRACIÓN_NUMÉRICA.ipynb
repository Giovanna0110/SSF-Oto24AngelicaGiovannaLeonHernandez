{
  "nbformat": 4,
  "nbformat_minor": 0,
  "metadata": {
    "colab": {
      "provenance": [],
      "authorship_tag": "ABX9TyMLvo6c9sVfkZ/boxlwq8wQ",
      "include_colab_link": true
    },
    "kernelspec": {
      "name": "python3",
      "display_name": "Python 3"
    },
    "language_info": {
      "name": "python"
    }
  },
  "cells": [
    {
      "cell_type": "markdown",
      "metadata": {
        "id": "view-in-github",
        "colab_type": "text"
      },
      "source": [
        "<a href=\"https://colab.research.google.com/github/Giovanna0110/SSF-Oto24AngelicaGiovannaLeonHernandez/blob/main/T2_INTEGRACI%C3%93N_NUM%C3%89RICA.ipynb\" target=\"_parent\"><img src=\"https://colab.research.google.com/assets/colab-badge.svg\" alt=\"Open In Colab\"/></a>"
      ]
    },
    {
      "cell_type": "code",
      "execution_count": 9,
      "metadata": {
        "colab": {
          "base_uri": "https://localhost:8080/"
        },
        "id": "OEffTDCDltHo",
        "outputId": "62020ba9-6948-4ba2-822c-eabd1bc05911"
      },
      "outputs": [
        {
          "output_type": "stream",
          "name": "stdout",
          "text": [
            "Valor aproximado de la integral con 6 puntos y pesos de Gauss-Legendre: 0.682689\n",
            "Valor aproximado de la integral con 15 puntos y pesos de Gauss-Legendre: 0.682689\n"
          ]
        }
      ],
      "source": [
        "import numpy as np\n",
        "\n",
        "# definir la funcion a integrar\n",
        "def f(x):\n",
        "    return (1/np.sqrt(2*np.pi))*np.exp(-x**2 / 2)\n",
        "# puntos y pesos de Gauss-Legendre para n = 6\n",
        "points_6 = [-0.932469514203152, -0.661209386466265, -0.238619186083197, 0.238619186083197, 0.661209386466265, 0.932469514203152]\n",
        "weights_6 = [0.171324492379170, 0.360761573048139, 0.467913934572691, 0.467913934572691, 0.360761573048139, 0.171324492379170]\n",
        "\n",
        "# puntos y pesos de Gauss-Legendre para n = 15\n",
        "points_15 = [-0.987992518020485, -0.937273392400706, -0.848206583410427, -0.724417731360170, -0.570972172608539, -0.394151347077563, -0.201194093997435, 0.000000000000000, 0.201194093997435, 0.394151347077563, 0.570972172608539, 0.724417731360170, 0.848206583410427, 0.937273392400706, 0.987992518020485]\n",
        "weights_15 = [0.030753241996117, 0.070366047488108, 0.107159220467172, 0.139570677926154, 0.166269205816994, 0.186161000015562, 0.198431485327111, 0.202578241925561, 0.198431485327111, 0.186161000015562, 0.166269205816994, 0.139570677926154, 0.107159220467172, 0.070366047488108, 0.030753241996117]\n",
        "\n",
        "# calculo de la integral para n = 6\n",
        "integral_6 = sum(w * f(x) for x, w in zip(points_6, weights_6))\n",
        "\n",
        "# calculo de la integral para n = 15\n",
        "integral_15 = sum(w * f(x) for x, w in zip(points_15, weights_15))\n",
        "\n",
        "# resultados\n",
        "print(f\"Valor aproximado de la integral con 6 puntos y pesos de Gauss-Legendre: {integral_6:.6f}\")\n",
        "print(f\"Valor aproximado de la integral con 15 puntos y pesos de Gauss-Legendre: {integral_15:.6f}\")\n"
      ]
    },
    {
      "cell_type": "code",
      "source": [
        "import numpy as np\n",
        "\n",
        "# definir la funcion a integrar\n",
        "def f(x):\n",
        "    return np.exp(x) * np.sin(x) / (1 + x**2)\n",
        "# regla del trapecio\n",
        "def regla_trapecio(f, a, b, N):\n",
        "    \"\"\"\n",
        "\n",
        "    Args:\n",
        "      f:\n",
        "      a:\n",
        "      b:\n",
        "      N:\n",
        "\n",
        "    Returns:\n",
        "\n",
        "    \"\"\"\n",
        "    h = (b - a) / N\n",
        "    x = np.linspace(a, b, N + 1)\n",
        "    integral = (h/2) * (f(x)[0] + 2 * sum(f(x)[1:N]) + f(x)[N])\n",
        "    return integral\n",
        "# limites de integracion y numero de subintervalos\n",
        "a, b = 0, 3\n",
        "N_values = [6, 15, 20]\n",
        "# resultados\n",
        "for N in N_values:\n",
        "    integral = regla_trapecio(f, a, b, N)\n",
        "    print(f\"Valor aproximado de la integral con {N} subintervalos: {integral:.6f}\")\n",
        "\n"
      ],
      "metadata": {
        "colab": {
          "base_uri": "https://localhost:8080/"
        },
        "id": "Rj6t7-KK3zK4",
        "outputId": "6bf6f1c3-0d78-4424-f40b-14e81013efb1"
      },
      "execution_count": 19,
      "outputs": [
        {
          "output_type": "stream",
          "name": "stdout",
          "text": [
            "Valor aproximado de la integral con 6 subintervalos: 2.821344\n",
            "Valor aproximado de la integral con 15 subintervalos: 2.872045\n",
            "Valor aproximado de la integral con 20 subintervalos: 2.876244\n"
          ]
        }
      ]
    }
  ]
}