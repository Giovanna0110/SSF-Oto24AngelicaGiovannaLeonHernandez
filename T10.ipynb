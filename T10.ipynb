{
  "nbformat": 4,
  "nbformat_minor": 0,
  "metadata": {
    "colab": {
      "provenance": [],
      "authorship_tag": "ABX9TyPLPEvtPbu5KWtYf0tHD+Dq",
      "include_colab_link": true
    },
    "kernelspec": {
      "name": "python3",
      "display_name": "Python 3"
    },
    "language_info": {
      "name": "python"
    }
  },
  "cells": [
    {
      "cell_type": "markdown",
      "metadata": {
        "id": "view-in-github",
        "colab_type": "text"
      },
      "source": [
        "<a href=\"https://colab.research.google.com/github/Giovanna0110/SSF-Oto24AngelicaGiovannaLeonHernandez/blob/main/T10.ipynb\" target=\"_parent\"><img src=\"https://colab.research.google.com/assets/colab-badge.svg\" alt=\"Open In Colab\"/></a>"
      ]
    },
    {
      "source": [
        "import numpy as np\n",
        "import matplotlib.pyplot as plt\n",
        "from math import sqrt # Changed 'match' to 'math' to import the sqrt function."
      ],
      "cell_type": "code",
      "metadata": {
        "id": "ke9kM1IKt07m"
      },
      "execution_count": 3,
      "outputs": []
    },
    {
      "cell_type": "code",
      "source": [
        "# configuracion de los parametros\n",
        "N = 1000000 # numero de puntos aleatorios\n",
        "count = 0\n",
        "0 # contador de puntos dentro de la esfera\n",
        "# generacion de pupuntos aleatorios en el cubo unitario\n",
        "for i in range(N):\n",
        "    x, y, z = np.random.uniform(-1, 1, 3)\n",
        "    if x**2 + y**2 + z**2 <= 1:\n",
        "        count += 1\n",
        "# calculo de volumen\n",
        "volume_quarter = count / N\n",
        "volume_hemisphere = 2 * volume_quarter\n",
        "print(\"Volumen de la esfera:\", volume_hemisphere)\n"
      ],
      "metadata": {
        "colab": {
          "base_uri": "https://localhost:8080/"
        },
        "id": "s95cJnnrt52D",
        "outputId": "e25d8d6a-f1f1-42d8-d0bd-a46a48d6512e"
      },
      "execution_count": 5,
      "outputs": [
        {
          "output_type": "stream",
          "name": "stdout",
          "text": [
            "Volumen de la esfera: 1.04744\n"
          ]
        }
      ]
    },
    {
      "cell_type": "code",
      "source": [
        "# numero de puntos aleatorios\n",
        "N = 1000000\n",
        "count = 0\n",
        "# generacion de puntos aleatorios en el intervalo 0, 1\n",
        "x_random = np.random.rand(N)\n",
        "y_random = np.sin(x_random)\n",
        "# Calculo de la integral como el promedio de y_random\n",
        "integral = np.mean(y_random)\n",
        "print(\"Valor de la integral:\", integral)\n",
        "\n"
      ],
      "metadata": {
        "colab": {
          "base_uri": "https://localhost:8080/"
        },
        "id": "OGD52-dqwBlF",
        "outputId": "205b8c09-cd7f-4755-d0f9-3bfd4f61175d"
      },
      "execution_count": 8,
      "outputs": [
        {
          "output_type": "stream",
          "name": "stdout",
          "text": [
            "Valor de la integral: 0.4595331845638239\n"
          ]
        }
      ]
    },
    {
      "source": [
        "# numero de puntpuntos aleatorios\n",
        "N = 1000000\n",
        "count = 0\n",
        "\n",
        "# generacion de puntos aleatorios en el hipercubo unitario de 4 dimensiones\n",
        "for i in range(N):\n",
        "    # Generate 4 random values and assign to x, y, z, t\n",
        "    x, y, z, t = np.random.uniform(-1, 1, 4)\n",
        "\n",
        "    # valores aleatorios en el rango 0, 1\n",
        "    if x**2 + y**2 + z**2 + t**2 <= 1:\n",
        "        count += 1\n",
        "# calculo del volumen\n",
        "volume_hypercube = count / N\n",
        "volume_hypercube\n",
        "print(\"Volumen del hipercubo:\", volume_hypercube)"
      ],
      "cell_type": "code",
      "metadata": {
        "colab": {
          "base_uri": "https://localhost:8080/"
        },
        "id": "QuFbBO2n0TR6",
        "outputId": "98e29f8a-a149-4704-a4d4-1f2266771dae"
      },
      "execution_count": 11,
      "outputs": [
        {
          "output_type": "stream",
          "name": "stdout",
          "text": [
            "Volumen del hipercubo: 0.308811\n"
          ]
        }
      ]
    }
  ]
}