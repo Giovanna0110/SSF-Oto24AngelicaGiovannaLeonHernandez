{
  "nbformat": 4,
  "nbformat_minor": 0,
  "metadata": {
    "colab": {
      "provenance": [],
      "authorship_tag": "ABX9TyOCUCRzbRX005BIcSdGM0TI",
      "include_colab_link": true
    },
    "kernelspec": {
      "name": "python3",
      "display_name": "Python 3"
    },
    "language_info": {
      "name": "python"
    }
  },
  "cells": [
    {
      "cell_type": "markdown",
      "metadata": {
        "id": "view-in-github",
        "colab_type": "text"
      },
      "source": [
        "<a href=\"https://colab.research.google.com/github/Giovanna0110/SSF-Oto24AngelicaGiovannaLeonHernandez/blob/main/t8_SSF.ipynb\" target=\"_parent\"><img src=\"https://colab.research.google.com/assets/colab-badge.svg\" alt=\"Open In Colab\"/></a>"
      ]
    },
    {
      "source": [
        "import numpy as np\n",
        "from scipy.stats import binom\n",
        "\n",
        "## T8A calculo de la probabilidad de que los 3 estudiantes.....\n",
        "def probabilidad_mujeres():\n",
        "  total_alumnos = 49\n",
        "  mujeres = 9\n",
        "  seleccion = 3\n",
        "\n",
        "# probabilidad usando la distribucion binomial\n",
        "  probabilidad = binom.pmf(seleccion, total_alumnos, mujeres / total_alumnos)\n",
        "\n",
        "  print(f\"Probabilidad de seleccionar 3 mujeres: {probabilidad:.5f}\")\n",
        "probabilidad_mujeres()\n",
        "\n",
        "\n",
        "import numpy as np\n",
        "from scipy.stats import binom\n",
        "\n",
        "## T8A calculo de la probabilidad de que los 3 estudiantes.....\n",
        "def probabilidad_mujeres():\n",
        "  total_alumnos = 49\n",
        "  mujeres = 9\n",
        "  seleccion = 3\n",
        "\n",
        "# probabilidad usando la distribucion binomial\n",
        "  probabilidad = binom.pmf(seleccion, total_alumnos, mujeres / total_alumnos)\n",
        "\n",
        "  print(f\"Probabilidad de seleccionar 3 mujeres: {probabilidad:.5f}\")\n",
        "probabilidad_mujeres()\n",
        "\n",
        "\n",
        "\n",
        "def probabilidad_mujeres():\n",
        "  total_alumnos = 49\n",
        "  mujeres = 9\n",
        "  seleccion = 3\n",
        "\n",
        "# probabilidad usando la distribucion binomial\n",
        "  probabilidad = binom.pmf(seleccion, total_alumnos, mujeres / total_alumnos)\n",
        "\n",
        "  print(f\"Probabilidad de seleccionar 3 mujeres: {probabilidad:.5f}\")\n",
        "probabilidad_mujeres()\n",
        "\n",
        "\n",
        "\n",
        "# Define variables outside the function to be accessible\n",
        "total_alumnos = 49\n",
        "mujeres = 9\n",
        "seleccion = 3\n",
        "\n",
        "# probabilidad usando la distribucion binomial\n",
        "probabilidad = binom.pmf(seleccion, seleccion, mujeres / total_alumnos) #Removed indentation here\n",
        "probabilidad = binom.pmf(seleccion, seleccion, mujeres / total_alumnos)\n",
        "print(f\"Probabilidad de seleccionar 3 mujeres: {probabilidad:.5f}\")\n",
        "probabilidad_mujeres()"
      ],
      "cell_type": "code",
      "metadata": {
        "colab": {
          "base_uri": "https://localhost:8080/"
        },
        "id": "DRP5T9W_p6Cx",
        "outputId": "dd1902cd-8b78-43a3-8c25-7f7817c86be2"
      },
      "execution_count": 5,
      "outputs": [
        {
          "output_type": "stream",
          "name": "stdout",
          "text": [
            "Probabilidad de seleccionar 3 mujeres: 0.01008\n",
            "Probabilidad de seleccionar 3 mujeres: 0.01008\n",
            "Probabilidad de seleccionar 3 mujeres: 0.01008\n",
            "Probabilidad de seleccionar 3 mujeres: 0.00620\n",
            "Probabilidad de seleccionar 3 mujeres: 0.01008\n"
          ]
        }
      ]
    },
    {
      "source": [
        "import numpy as np\n",
        "\n",
        "# T8B asignacion aleatoria de calificaciones y calculo de promedio\n",
        "def calificaciones_estadisticas():\n",
        "   # generar 100 calificaciones aleatorias entre 5 y 10\n",
        "   calificaciones = np.random.randint(5, 11, size=100)\n",
        "   promedio = np.mean(calificaciones)\n",
        "   desviacion_estandar = np.std(calificaciones)\n",
        "   print(f\"Promedio de calificaciones: {promedio:.2f}\")\n",
        "   print(f\"Desviación estándar de calificaciones: {desviacion_estandar:.2f}\")\n",
        "\n",
        "   # repetir el experimento 10 veces\n",
        "   promedios = []\n",
        "   desviaciones_estandar = []\n",
        "   for _ in range(10):\n",
        "       calificaciones = np.random.randint(5, 11, size=100)\n",
        "       promedios.append(np.mean(calificaciones)) #Fixed: Removed extra np\n",
        "       desviaciones_estandar.append(np.std(calificaciones))\n",
        "\n",
        "   # Calcular el promedio de los promedios y desviaciones estándar (Solicitud 1)\n",
        "   promedio_de_promedios = np.mean(promedios)\n",
        "   promedio_de_desviaciones = np.mean(desviaciones_estandar)\n",
        "   print(f\"\\nPromedio de los promedios: {promedio_de_promedios:.2f}\")\n",
        "   print(f\"Promedio de las desviaciones estándar: {promedio_de_desviaciones:.2f}\")\n",
        "\n",
        "\n",
        "# T8C Calcular el promedio y la desviación estándar de los promedios y las desviaciones estándar (Solicitud 2)\n",
        "def promedio_desviacion_A2():\n",
        "   # Generar 100 calificaciones aleatorias entre 5 y 10\n",
        "   calificaciones = np.random.randint(5, 11, size=100)\n",
        "   promedio = np.mean(calificaciones)\n",
        "   desviacion_estandar = np.std(calificaciones)\n",
        "   print(f\"\\nPromedio de calificaciones (A2): {promedio:.2f}\")\n",
        "   print(f\"Desviación estándar de calificaciones (A2): {desviacion_estandar:.2f}\")\n",
        "\n",
        "# Ejecutar las dos funciones para obtener las solicitudes de promedios\n",
        "calificaciones_estadisticas()\n",
        "promedio_desviacion_A2()"
      ],
      "cell_type": "code",
      "metadata": {
        "colab": {
          "base_uri": "https://localhost:8080/"
        },
        "id": "8s9tCyDKtiIf",
        "outputId": "bc58c3bc-620e-4c55-caf2-333fcaf97d80"
      },
      "execution_count": 14,
      "outputs": [
        {
          "output_type": "stream",
          "name": "stdout",
          "text": [
            "Promedio de calificaciones: 7.45\n",
            "Desviación estándar de calificaciones: 1.75\n",
            "\n",
            "Promedio de los promedios: 7.51\n",
            "Promedio de las desviaciones estándar: 1.71\n",
            "\n",
            "Promedio de calificaciones (A2): 7.66\n",
            "Desviación estándar de calificaciones (A2): 1.71\n"
          ]
        }
      ]
    }
  ]
}